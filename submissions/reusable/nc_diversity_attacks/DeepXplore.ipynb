{
 "cells": [
  {
   "cell_type": "markdown",
   "metadata": {
    "colab_type": "text",
    "id": "LNkOjKvuN6Ud"
   },
   "source": [
    "# CW + Diversity Regularization on CIFAR10"
   ]
  },
  {
   "cell_type": "code",
   "execution_count": 1,
   "metadata": {
    "colab": {},
    "colab_type": "code",
    "id": "yeR2kRlPR7v0"
   },
   "outputs": [
    {
     "name": "stdout",
     "output_type": "stream",
     "text": [
      "CUDA is available!\n"
     ]
    }
   ],
   "source": [
    "import torch\n",
    "import torch.nn as nn\n",
    "from torch.utils.data.sampler import SubsetRandomSampler\n",
    "\n",
    "import torchvision\n",
    "import torchvision.transforms as transforms\n",
    "import torch.optim as optim\n",
    "\n",
    "import pickle\n",
    "import datetime\n",
    "import glob\n",
    "import os\n",
    "import warnings\n",
    "warnings.filterwarnings('ignore')\n",
    "\n",
    "import pandas as pd\n",
    "pd.set_option('display.max_rows', None)\n",
    "pd.set_option('display.max_columns', None)\n",
    "pd.set_option('precision', 10)\n",
    "\n",
    "# custom code imports\n",
    "from models import *\n",
    "from neuron_coverage import *\n",
    "\n",
    "import matplotlib.pyplot as plt\n",
    "%matplotlib inline\n",
    "\n",
    "%load_ext autoreload\n",
    "%autoreload 2\n",
    "\n",
    "device = torch.device(\"cpu\")\n",
    "if torch.cuda.is_available():\n",
    "    print('CUDA is available!')\n",
    "    device = torch.device(\"cuda\")\n",
    "else:\n",
    "    print('CUDA is not available...')"
   ]
  },
  {
   "cell_type": "markdown",
   "metadata": {},
   "source": [
    "# Generate Data\n",
    "\n",
    "```\n",
    "conda activate deepxplore\n",
    "\n",
    "cd C:\\Users\\Fabrice\\Documents\\GitHub\\deepxplore\\Driving\n",
    "\n",
    "python gen_diff.py light 2 0.5 10 1000 50 0\n",
    "python gen_diff.py occl 2 0.5 10 1000 50 0\n",
    "python gen_diff.py blackout 2 0.5 100 1000 50 0\n",
    "\n",
    "conda activate deepxplore\n",
    "\n",
    "cd C:\\Users\\Fabrice\\Documents\\GitHub\\deepxplore\\MNIST\n",
    "\n",
    "python gen_diff.py light 2 0.5 0.5 1000 50 0\n",
    "python gen_diff.py occl 2 0.5 0.5 1000 50 0\n",
    "python gen_diff.py blackout 2 0.5 0.5 1000 50 0\n",
    "```"
   ]
  },
  {
   "cell_type": "markdown",
   "metadata": {},
   "source": [
    "# Load Data"
   ]
  },
  {
   "cell_type": "markdown",
   "metadata": {},
   "source": [
    "### MNIST"
   ]
  },
  {
   "cell_type": "code",
   "execution_count": 2,
   "metadata": {},
   "outputs": [],
   "source": [
    "mnist_dir = r\"C:/Users/Fabrice/Documents/GitHub/deepxplore/MNIST/generated_inputs/\""
   ]
  },
  {
   "cell_type": "code",
   "execution_count": 3,
   "metadata": {},
   "outputs": [],
   "source": [
    "with open(mnist_dir + 'results_MNIST_light.pkl.', 'rb') as handle:\n",
    "    results_MNIST_light = pickle.load(handle)\n",
    "    \n",
    "with open(mnist_dir + 'results_MNIST_occl.pkl.', 'rb') as handle:\n",
    "    results_MNIST_occl = pickle.load(handle)\n",
    "    \n",
    "with open(mnist_dir + 'results_MNIST_blackout.pkl.', 'rb') as handle:\n",
    "    results_MNIST_blackout = pickle.load(handle)"
   ]
  },
  {
   "cell_type": "code",
   "execution_count": 4,
   "metadata": {},
   "outputs": [
    {
     "data": {
      "text/plain": [
       "100"
      ]
     },
     "execution_count": 4,
     "metadata": {},
     "output_type": "execute_result"
    }
   ],
   "source": [
    "len(results_MNIST_light['adversaries'])"
   ]
  },
  {
   "cell_type": "code",
   "execution_count": 5,
   "metadata": {},
   "outputs": [
    {
     "data": {
      "text/plain": [
       "100"
      ]
     },
     "execution_count": 5,
     "metadata": {},
     "output_type": "execute_result"
    }
   ],
   "source": [
    "len(results_MNIST_occl['adversaries'])"
   ]
  },
  {
   "cell_type": "code",
   "execution_count": 6,
   "metadata": {},
   "outputs": [
    {
     "data": {
      "text/plain": [
       "100"
      ]
     },
     "execution_count": 6,
     "metadata": {},
     "output_type": "execute_result"
    }
   ],
   "source": [
    "len(results_MNIST_blackout['adversaries'])"
   ]
  },
  {
   "cell_type": "code",
   "execution_count": 7,
   "metadata": {},
   "outputs": [
    {
     "data": {
      "text/plain": [
       "(array([0, 1, 4, 6, 7, 9], dtype=uint8),\n",
       " array([10, 20, 19, 18, 20, 13], dtype=int64))"
      ]
     },
     "execution_count": 7,
     "metadata": {},
     "output_type": "execute_result"
    }
   ],
   "source": [
    "np.unique(results_MNIST_light['targets'], return_counts=True)"
   ]
  },
  {
   "cell_type": "code",
   "execution_count": 8,
   "metadata": {},
   "outputs": [
    {
     "data": {
      "text/plain": [
       "(array([0, 1, 2, 3, 4, 5, 6, 7, 8, 9], dtype=uint8),\n",
       " array([10, 10, 12, 10,  6, 12, 12,  3, 12, 13], dtype=int64))"
      ]
     },
     "execution_count": 8,
     "metadata": {},
     "output_type": "execute_result"
    }
   ],
   "source": [
    "np.unique(results_MNIST_occl['targets'], return_counts=True)"
   ]
  },
  {
   "cell_type": "code",
   "execution_count": 9,
   "metadata": {},
   "outputs": [
    {
     "data": {
      "text/plain": [
       "(array([0, 1, 2, 3, 4, 5, 6, 7, 8, 9], dtype=uint8),\n",
       " array([11,  8,  8, 18,  5,  8,  5,  6, 16, 15], dtype=int64))"
      ]
     },
     "execution_count": 9,
     "metadata": {},
     "output_type": "execute_result"
    }
   ],
   "source": [
    "np.unique(results_MNIST_blackout['targets'], return_counts=True)"
   ]
  },
  {
   "cell_type": "markdown",
   "metadata": {},
   "source": [
    "### Driving"
   ]
  },
  {
   "cell_type": "code",
   "execution_count": 10,
   "metadata": {},
   "outputs": [],
   "source": [
    "driving_dir = r\"C:/Users/Fabrice/Documents/GitHub/deepxplore/Driving/generated_inputs/\"\n",
    "\n",
    "with open(driving_dir + 'results_Driving_light.pkl.', 'rb') as handle:\n",
    "    results_Driving_light = pickle.load(handle)\n",
    "    \n",
    "with open(driving_dir + 'results_Driving_occl.pkl.', 'rb') as handle:\n",
    "    results_Driving_occl = pickle.load(handle)\n",
    "    \n",
    "with open(driving_dir + 'results_Driving_blackout.pkl.', 'rb') as handle:\n",
    "    results_Driving_blackout = pickle.load(handle)"
   ]
  },
  {
   "cell_type": "code",
   "execution_count": 11,
   "metadata": {},
   "outputs": [
    {
     "data": {
      "text/plain": [
       "100"
      ]
     },
     "execution_count": 11,
     "metadata": {},
     "output_type": "execute_result"
    }
   ],
   "source": [
    "len(results_Driving_light['adversaries'])"
   ]
  },
  {
   "cell_type": "code",
   "execution_count": 12,
   "metadata": {},
   "outputs": [
    {
     "data": {
      "text/plain": [
       "100"
      ]
     },
     "execution_count": 12,
     "metadata": {},
     "output_type": "execute_result"
    }
   ],
   "source": [
    "len(results_Driving_occl['adversaries'])"
   ]
  },
  {
   "cell_type": "code",
   "execution_count": 13,
   "metadata": {},
   "outputs": [
    {
     "data": {
      "text/plain": [
       "100"
      ]
     },
     "execution_count": 13,
     "metadata": {},
     "output_type": "execute_result"
    }
   ],
   "source": [
    "len(results_Driving_blackout['adversaries'])"
   ]
  },
  {
   "cell_type": "code",
   "execution_count": 14,
   "metadata": {
    "collapsed": true
   },
   "outputs": [
    {
     "data": {
      "text/plain": [
       "(array([-0.37728189, -0.37366511, -0.37015445, -0.36509831, -0.35592766,\n",
       "        -0.345652  , -0.34200869, -0.33472228, -0.32987318, -0.32465709,\n",
       "        -0.32411876, -0.32280696, -0.32002955, -0.31699471, -0.31380253,\n",
       "        -0.29695919, -0.29579809, -0.28928785, -0.28299015, -0.27832876,\n",
       "        -0.2727933 , -0.27188941, -0.26611465, -0.26206492, -0.25137091,\n",
       "        -0.25076337, -0.23023227, -0.22462393, -0.2197968 , -0.21745265,\n",
       "        -0.20198678, -0.1885332 , -0.17852194, -0.17794751, -0.17002803,\n",
       "        -0.16833934, -0.16568308, -0.14385353, -0.1164897 , -0.10962802,\n",
       "        -0.10557798, -0.09934618, -0.0963665 , -0.09135705, -0.08798349,\n",
       "        -0.08288936, -0.07098416, -0.06692124, -0.05540992, -0.05406632,\n",
       "        -0.04610964, -0.04592619, -0.03379836, -0.02579822, -0.02280141,\n",
       "        -0.02140156, -0.01995617, -0.01782793, -0.01404086, -0.00683715,\n",
       "         0.00502623,  0.00843862,  0.01852022,  0.02438788,  0.02874173,\n",
       "         0.02892042,  0.03967557,  0.04666991,  0.05422309,  0.05732438,\n",
       "         0.057727  ,  0.07205129,  0.08129164,  0.12512054,  0.12551556,\n",
       "         0.12857244,  0.14296362,  0.14859778,  0.15210772,  0.15517278,\n",
       "         0.16902433,  0.18340625,  0.24634397,  0.2613206 ,  0.30121851,\n",
       "         0.30265176,  0.30566882,  0.31735161,  0.32876948,  0.33100385,\n",
       "         0.33119508,  0.33925573,  0.35901444,  0.36553742,  0.37273375,\n",
       "         0.37674193,  0.39314512]),\n",
       " array([1, 1, 1, 1, 1, 1, 1, 1, 1, 1, 1, 1, 1, 2, 1, 1, 1, 1, 1, 1, 1, 1,\n",
       "        1, 1, 1, 1, 1, 1, 1, 1, 1, 1, 1, 1, 1, 1, 1, 1, 1, 1, 1, 1, 2, 1,\n",
       "        1, 1, 1, 1, 1, 1, 1, 1, 2, 1, 1, 1, 1, 1, 1, 1, 1, 1, 1, 1, 1, 1,\n",
       "        1, 1, 1, 1, 1, 1, 1, 1, 1, 1, 1, 1, 1, 1, 1, 1, 1, 1, 1, 1, 1, 1,\n",
       "        1, 1, 1, 1, 1, 1, 1, 1, 1], dtype=int64))"
      ]
     },
     "execution_count": 14,
     "metadata": {},
     "output_type": "execute_result"
    }
   ],
   "source": [
    "np.unique(results_Driving_light['targets'], return_counts=True)"
   ]
  },
  {
   "cell_type": "code",
   "execution_count": 15,
   "metadata": {
    "collapsed": true
   },
   "outputs": [
    {
     "data": {
      "text/plain": [
       "(array([-0.39928845, -0.38095004, -0.37047045, -0.36740017, -0.35700043,\n",
       "        -0.34517553, -0.33989877, -0.33645611, -0.32976463, -0.32465709,\n",
       "        -0.32411876, -0.32164437, -0.31907906, -0.30743415, -0.30425362,\n",
       "        -0.30011493, -0.29392682, -0.28050114, -0.27555969, -0.2727933 ,\n",
       "        -0.25873454, -0.23294082, -0.23109758, -0.23023227, -0.22737362,\n",
       "        -0.20735071, -0.20017469, -0.18834042, -0.18740071, -0.18585294,\n",
       "        -0.18392783, -0.17244475, -0.15133414, -0.15128113, -0.15091985,\n",
       "        -0.15043932, -0.14507876, -0.13264465, -0.12414477, -0.12028408,\n",
       "        -0.1177834 , -0.1164897 , -0.11582777, -0.11463397, -0.08617129,\n",
       "        -0.07978241, -0.06684773, -0.06607332, -0.05927238, -0.05572226,\n",
       "        -0.05524321, -0.05249653, -0.05212902, -0.04453581, -0.02066263,\n",
       "         0.00375803,  0.02164353,  0.02587947,  0.02654576,  0.02753325,\n",
       "         0.0282077 ,  0.0430973 ,  0.04733965,  0.06153425,  0.06235548,\n",
       "         0.06312626,  0.10545148,  0.11003763,  0.11874483,  0.12737646,\n",
       "         0.14827432,  0.15031638,  0.16256301,  0.16846802,  0.19332954,\n",
       "         0.20235013,  0.21069517,  0.21809014,  0.22298217,  0.22350034,\n",
       "         0.23459793,  0.24591753,  0.25474682,  0.27035153,  0.27815825,\n",
       "         0.28637827,  0.29526195,  0.30579099,  0.31916425,  0.32314659,\n",
       "         0.32576102,  0.34484428,  0.35340869,  0.36147814,  0.3647116 ,\n",
       "         0.37056019,  0.37340641,  0.39321709,  0.39530397]),\n",
       " array([1, 1, 1, 1, 1, 1, 1, 1, 1, 1, 1, 1, 1, 1, 1, 1, 1, 1, 1, 2, 1, 1,\n",
       "        1, 1, 1, 1, 1, 1, 1, 1, 1, 1, 1, 1, 1, 1, 1, 1, 1, 1, 1, 1, 1, 1,\n",
       "        1, 1, 1, 1, 1, 1, 1, 1, 1, 1, 1, 1, 1, 1, 1, 1, 1, 1, 1, 1, 1, 1,\n",
       "        1, 1, 1, 1, 1, 1, 1, 1, 1, 1, 1, 1, 1, 1, 1, 1, 1, 1, 1, 1, 1, 1,\n",
       "        1, 1, 1, 1, 1, 1, 1, 1, 1, 1, 1], dtype=int64))"
      ]
     },
     "execution_count": 15,
     "metadata": {},
     "output_type": "execute_result"
    }
   ],
   "source": [
    "np.unique(results_Driving_occl['targets'], return_counts=True)"
   ]
  },
  {
   "cell_type": "code",
   "execution_count": 16,
   "metadata": {
    "collapsed": true
   },
   "outputs": [
    {
     "data": {
      "text/plain": [
       "(array([-0.39928845, -0.39743738, -0.39628813, -0.3950892 , -0.38511309,\n",
       "        -0.37044841, -0.36698957, -0.3649463 , -0.35696927, -0.35693913,\n",
       "        -0.35420642, -0.33588668, -0.33577057, -0.30509204, -0.30389648,\n",
       "        -0.30312354, -0.29834492, -0.29392682, -0.27436178, -0.26594641,\n",
       "        -0.26174049, -0.25941073, -0.24414348, -0.23794296, -0.22652213,\n",
       "        -0.2197968 , -0.21282964, -0.18548831, -0.18287656, -0.17321095,\n",
       "        -0.16795078, -0.1647337 , -0.16031298, -0.15885947, -0.15551566,\n",
       "        -0.13264465, -0.1232635 , -0.12111675, -0.1180299 , -0.10320319,\n",
       "        -0.099399  , -0.09319507, -0.09228707, -0.08972303, -0.08884276,\n",
       "        -0.07978241, -0.0759249 , -0.05818584, -0.05419977, -0.04739555,\n",
       "        -0.04469278, -0.03379836, -0.02066263, -0.01782793,  0.00374126,\n",
       "         0.00843862,  0.01366247,  0.02808919,  0.03219862,  0.03747196,\n",
       "         0.05343545,  0.05595777,  0.06908067,  0.07213698,  0.0796802 ,\n",
       "         0.08291583,  0.08530263,  0.11366913,  0.11753762,  0.12094473,\n",
       "         0.12186224,  0.12320232,  0.14526822,  0.15410109,  0.1803282 ,\n",
       "         0.20446677,  0.21877681,  0.2202454 ,  0.22298217,  0.22466343,\n",
       "         0.24889325,  0.26114668,  0.27010851,  0.27285276,  0.27449115,\n",
       "         0.27603618,  0.2807981 ,  0.2904191 ,  0.30594115,  0.30839333,\n",
       "         0.315846  ,  0.32511806,  0.33476965,  0.35871921,  0.36216443,\n",
       "         0.37006037]),\n",
       " array([1, 1, 1, 1, 1, 1, 1, 1, 1, 1, 1, 1, 1, 1, 1, 2, 2, 1, 1, 1, 1, 1,\n",
       "        1, 1, 1, 1, 1, 1, 1, 1, 1, 1, 1, 1, 1, 1, 1, 1, 1, 1, 1, 1, 1, 1,\n",
       "        1, 1, 1, 1, 1, 1, 1, 1, 1, 1, 1, 1, 1, 1, 1, 1, 1, 1, 1, 2, 1, 1,\n",
       "        1, 1, 1, 1, 1, 1, 1, 1, 1, 1, 2, 1, 1, 1, 1, 1, 1, 1, 1, 1, 1, 1,\n",
       "        1, 1, 1, 1, 1, 1, 1, 1], dtype=int64))"
      ]
     },
     "execution_count": 16,
     "metadata": {},
     "output_type": "execute_result"
    }
   ],
   "source": [
    "np.unique(results_Driving_blackout['targets'], return_counts=True)"
   ]
  },
  {
   "cell_type": "code",
   "execution_count": 18,
   "metadata": {
    "collapsed": true
   },
   "outputs": [
    {
     "data": {
      "text/plain": [
       "array([[[[  4,   0,   0],\n",
       "         [  0,   0,   0],\n",
       "         [  0,   0,   0],\n",
       "         ...,\n",
       "         [  0,   0,   0],\n",
       "         [  0,   0,   0],\n",
       "         [  0,   0,   0]],\n",
       "\n",
       "        [[  0,   0,   0],\n",
       "         [  0,   0,   0],\n",
       "         [  0,   0,   0],\n",
       "         ...,\n",
       "         [  0,   0,   0],\n",
       "         [  0,   0,   0],\n",
       "         [  0,   0,   0]],\n",
       "\n",
       "        [[  0,   0,   0],\n",
       "         [  0,   0,   0],\n",
       "         [  0,   0,   0],\n",
       "         ...,\n",
       "         [  0,   0,   0],\n",
       "         [  0,   0,   0],\n",
       "         [  0,   0,   0]],\n",
       "\n",
       "        ...,\n",
       "\n",
       "        [[ 33,  32,  28],\n",
       "         [ 28,  27,  23],\n",
       "         [ 34,  33,  31],\n",
       "         ...,\n",
       "         [108, 106, 109],\n",
       "         [ 11,   9,  10],\n",
       "         [ 17,  15,  16]],\n",
       "\n",
       "        [[ 30,  29,  25],\n",
       "         [ 26,  25,  21],\n",
       "         [ 22,  21,  19],\n",
       "         ...,\n",
       "         [110, 108, 111],\n",
       "         [ 62,  60,  61],\n",
       "         [ 20,  18,  19]],\n",
       "\n",
       "        [[ 35,  34,  30],\n",
       "         [ 24,  23,  19],\n",
       "         [ 24,  23,  21],\n",
       "         ...,\n",
       "         [107, 105, 108],\n",
       "         [103, 101, 102],\n",
       "         [ 42,  40,  41]]],\n",
       "\n",
       "\n",
       "       [[[  0,   0,   0],\n",
       "         [  0,   0,   0],\n",
       "         [  0,   0,   0],\n",
       "         ...,\n",
       "         [135, 112,  96],\n",
       "         [124, 109,  66],\n",
       "         [ 68,  64,  37]],\n",
       "\n",
       "        [[  0,   0,   0],\n",
       "         [  0,   0,   0],\n",
       "         [  0,   0,   0],\n",
       "         ...,\n",
       "         [190, 177, 150],\n",
       "         [122,  88,  78],\n",
       "         [103,  77,  54]],\n",
       "\n",
       "        [[  0,   0,   0],\n",
       "         [  0,   0,   0],\n",
       "         [  0,   0,   0],\n",
       "         ...,\n",
       "         [184, 164, 140],\n",
       "         [165, 143, 119],\n",
       "         [190, 181, 159]],\n",
       "\n",
       "        ...,\n",
       "\n",
       "        [[  0,   0,   0],\n",
       "         [  0,   0,   0],\n",
       "         [  0,   0,   0],\n",
       "         ...,\n",
       "         [  0,   0,  24],\n",
       "         [  0,   0,   0],\n",
       "         [  0,   0,   0]],\n",
       "\n",
       "        [[  0,   0,   0],\n",
       "         [  0,   0,   0],\n",
       "         [  0,   0,   0],\n",
       "         ...,\n",
       "         [  0,   1,  28],\n",
       "         [  0,   0,   9],\n",
       "         [  0,   0,   0]],\n",
       "\n",
       "        [[  0,   0,   0],\n",
       "         [  0,   0,   0],\n",
       "         [  0,   0,   0],\n",
       "         ...,\n",
       "         [  0,   4,  29],\n",
       "         [  0,   0,  25],\n",
       "         [  0,   0,  15]]],\n",
       "\n",
       "\n",
       "       [[[ 73,  66,  56],\n",
       "         [ 78,  56,  58],\n",
       "         [106,  89,  79],\n",
       "         ...,\n",
       "         [100,  99,  94],\n",
       "         [ 96,  96,  94],\n",
       "         [ 95,  94,  92]],\n",
       "\n",
       "        [[ 64,  74,  66],\n",
       "         [ 59,  59,  59],\n",
       "         [ 66,  65,  60],\n",
       "         ...,\n",
       "         [103, 103, 101],\n",
       "         [ 97,  97,  95],\n",
       "         [ 97,  96,  94]],\n",
       "\n",
       "        [[ 83,  83,  71],\n",
       "         [ 84,  85,  71],\n",
       "         [ 88,  89,  83],\n",
       "         ...,\n",
       "         [ 92,  93,  95],\n",
       "         [102, 102, 100],\n",
       "         [ 99,  98,  96]],\n",
       "\n",
       "        ...,\n",
       "\n",
       "        [[126, 126, 128],\n",
       "         [126, 126, 128],\n",
       "         [135, 135, 135],\n",
       "         ...,\n",
       "         [119, 117, 120],\n",
       "         [121, 121, 119],\n",
       "         [121, 123, 120]],\n",
       "\n",
       "        [[126, 126, 128],\n",
       "         [121, 121, 123],\n",
       "         [127, 127, 127],\n",
       "         ...,\n",
       "         [136, 135, 133],\n",
       "         [122, 120, 121],\n",
       "         [121, 121, 121]],\n",
       "\n",
       "        [[126, 126, 128],\n",
       "         [120, 120, 122],\n",
       "         [127, 127, 127],\n",
       "         ...,\n",
       "         [255, 255, 255],\n",
       "         [132, 127, 131],\n",
       "         [123, 121, 124]]],\n",
       "\n",
       "\n",
       "       ...,\n",
       "\n",
       "\n",
       "       [[[  0,   0,   0],\n",
       "         [  0,   0,   0],\n",
       "         [  0,   0,   0],\n",
       "         ...,\n",
       "         [139,  84,  64],\n",
       "         [111,  72,  55],\n",
       "         [116,  95,  78]],\n",
       "\n",
       "        [[  0,   0,   0],\n",
       "         [  0,   0,   0],\n",
       "         [  0,   0,   0],\n",
       "         ...,\n",
       "         [147,  95,  74],\n",
       "         [120,  62,  48],\n",
       "         [ 12,   0,   0]],\n",
       "\n",
       "        [[  0,   0,   0],\n",
       "         [  0,   0,   0],\n",
       "         [  0,   0,   0],\n",
       "         ...,\n",
       "         [131, 105,  88],\n",
       "         [123,  83,  58],\n",
       "         [ 82,  46,  24]],\n",
       "\n",
       "        ...,\n",
       "\n",
       "        [[  0,   0,   0],\n",
       "         [  0,   0,   0],\n",
       "         [  0,   0,   0],\n",
       "         ...,\n",
       "         [  0,   0,   0],\n",
       "         [  0,   0,   0],\n",
       "         [  0,   0,   0]],\n",
       "\n",
       "        [[  0,   0,   0],\n",
       "         [  0,   0,   0],\n",
       "         [  0,   0,   0],\n",
       "         ...,\n",
       "         [  0,   0,   0],\n",
       "         [  0,   0,   0],\n",
       "         [  0,   0,   0]],\n",
       "\n",
       "        [[  0,   0,   0],\n",
       "         [  0,   0,   0],\n",
       "         [  0,   0,   0],\n",
       "         ...,\n",
       "         [  0,   0,   0],\n",
       "         [  0,   0,   0],\n",
       "         [  0,   0,   0]]],\n",
       "\n",
       "\n",
       "       [[[208, 255, 255],\n",
       "         [ 87,  95, 108],\n",
       "         [102, 113, 133],\n",
       "         ...,\n",
       "         [ 57,  50,  40],\n",
       "         [ 62,  61,  56],\n",
       "         [ 59,  60,  54]],\n",
       "\n",
       "        [[181, 190, 185],\n",
       "         [143, 134, 125],\n",
       "         [132, 132, 122],\n",
       "         ...,\n",
       "         [ 83,  80,  71],\n",
       "         [ 85,  79,  65],\n",
       "         [ 80,  74,  62]],\n",
       "\n",
       "        [[185, 158, 131],\n",
       "         [175, 153, 140],\n",
       "         [160, 133, 122],\n",
       "         ...,\n",
       "         [ 59,  60,  52],\n",
       "         [ 86,  83,  66],\n",
       "         [ 73,  69,  60]],\n",
       "\n",
       "        ...,\n",
       "\n",
       "        [[201, 193, 190],\n",
       "         [196, 188, 185],\n",
       "         [202, 198, 195],\n",
       "         ...,\n",
       "         [119, 119, 119],\n",
       "         [112, 111, 109],\n",
       "         [116, 114, 115]],\n",
       "\n",
       "        [[206, 198, 195],\n",
       "         [197, 189, 186],\n",
       "         [185, 182, 177],\n",
       "         ...,\n",
       "         [121, 121, 121],\n",
       "         [122, 121, 119],\n",
       "         [112, 110, 111]],\n",
       "\n",
       "        [[185, 177, 174],\n",
       "         [179, 171, 168],\n",
       "         [173, 170, 163],\n",
       "         ...,\n",
       "         [110, 110, 110],\n",
       "         [121, 120, 118],\n",
       "         [118, 116, 117]]],\n",
       "\n",
       "\n",
       "       [[[ 24,   4,   0],\n",
       "         [  3,   0,   0],\n",
       "         [  0,   0,   0],\n",
       "         ...,\n",
       "         [203, 203, 203],\n",
       "         [203, 203, 203],\n",
       "         [203, 203, 203]],\n",
       "\n",
       "        [[  0,   0,   0],\n",
       "         [  0,   0,   0],\n",
       "         [  0,   0,   0],\n",
       "         ...,\n",
       "         [203, 203, 203],\n",
       "         [203, 203, 203],\n",
       "         [203, 203, 203]],\n",
       "\n",
       "        [[  0,   0,   0],\n",
       "         [  0,   0,   0],\n",
       "         [  0,   0,   0],\n",
       "         ...,\n",
       "         [203, 203, 203],\n",
       "         [203, 203, 203],\n",
       "         [203, 203, 203]],\n",
       "\n",
       "        ...,\n",
       "\n",
       "        [[  0,   0,   0],\n",
       "         [  0,   0,   0],\n",
       "         [  0,   0,   0],\n",
       "         ...,\n",
       "         [  0,   0,   0],\n",
       "         [  0,   0,   0],\n",
       "         [  0,   0,   0]],\n",
       "\n",
       "        [[  0,   0,   0],\n",
       "         [  0,   0,   0],\n",
       "         [  0,   0,   0],\n",
       "         ...,\n",
       "         [  0,   0,   0],\n",
       "         [  0,   0,   0],\n",
       "         [  0,   0,   0]],\n",
       "\n",
       "        [[  0,   0,   0],\n",
       "         [  0,   0,   0],\n",
       "         [  0,   0,   0],\n",
       "         ...,\n",
       "         [  0,   0,   0],\n",
       "         [  0,   0,   0],\n",
       "         [  0,   0,   0]]]], dtype=uint8)"
      ]
     },
     "execution_count": 18,
     "metadata": {},
     "output_type": "execute_result"
    }
   ],
   "source": [
    "np.stack(results_Driving_light['adversaries'])"
   ]
  },
  {
   "cell_type": "markdown",
   "metadata": {},
   "source": [
    "# Calculate NC, ASR, IS, FID, OD\n",
    "\n",
    "```\n",
    "python _DeepXplore_mnist.py\n",
    "```"
   ]
  },
  {
   "cell_type": "markdown",
   "metadata": {},
   "source": [
    "### MNIST"
   ]
  },
  {
   "cell_type": "code",
   "execution_count": 8,
   "metadata": {},
   "outputs": [],
   "source": [
    "data_dir = \"C:/Users/Fabrice/Documents/GitHub/diversity_attacks/assets2/deepxplore/\"\n",
    "\n",
    "with open(data_dir + 'dx_results_mnist_Conv2DNet_blackout_2020.01.27.pkl', 'rb') as handle:\n",
    "    results_MNIST_light = pickle.load(handle)\n",
    "    \n",
    "with open(data_dir + 'dx_results_mnist_Conv2DNet_light_2020.01.27.pkl', 'rb') as handle:\n",
    "    results_MNIST_occl = pickle.load(handle)\n",
    "    \n",
    "with open(data_dir + 'dx_results_mnist_Conv2DNet_occl_2020.01.27.pkl', 'rb') as handle:\n",
    "    results_MNIST_blackout = pickle.load(handle)\n",
    "    \n",
    "all_results_MNIST = results_MNIST_light + results_MNIST_occl + results_MNIST_blackout"
   ]
  },
  {
   "cell_type": "code",
   "execution_count": 20,
   "metadata": {},
   "outputs": [],
   "source": [
    "# with open('assets/dx_results_mnist_Conv2DNet_blackout_2020.01.27.pkl', 'wb') as handle:\n",
    "#     pickle.dump(results_MNIST_light, handle, protocol=pickle.HIGHEST_PROTOCOL)\n",
    "    \n",
    "# with open('assets/dx_results_mnist_Conv2DNet_light_2020.01.27.pkl', 'wb') as handle:\n",
    "#     pickle.dump(results_MNIST_occl, handle, protocol=pickle.HIGHEST_PROTOCOL)\n",
    "    \n",
    "# with open('assets/dx_results_mnist_Conv2DNet_occl_2020.01.27.pkl', 'wb') as handle:\n",
    "#     pickle.dump(results_MNIST_blackout, handle, protocol=pickle.HIGHEST_PROTOCOL)"
   ]
  },
  {
   "cell_type": "code",
   "execution_count": 21,
   "metadata": {},
   "outputs": [],
   "source": [
    "target_features = ['model', \n",
    "                   'transformation', \n",
    "                   'orig_acc', \n",
    "                   'pert_acc', \n",
    "                   'attack_success_rate',\n",
    "                   'neuron_coverage_000',\n",
    "                   'neuron_coverage_020',\n",
    "                   'neuron_coverage_050',\n",
    "                   'neuron_coverage_075',\n",
    "                   'inception_score',\n",
    "                   'fid_score_64',\n",
    "                   'fid_score_2048',\n",
    "                   'output_diversity',\n",
    "                   'output_diversity_pct']"
   ]
  },
  {
   "cell_type": "code",
   "execution_count": 22,
   "metadata": {},
   "outputs": [
    {
     "data": {
      "text/html": [
       "<div>\n",
       "<style scoped>\n",
       "    .dataframe tbody tr th:only-of-type {\n",
       "        vertical-align: middle;\n",
       "    }\n",
       "\n",
       "    .dataframe tbody tr th {\n",
       "        vertical-align: top;\n",
       "    }\n",
       "\n",
       "    .dataframe thead th {\n",
       "        text-align: right;\n",
       "    }\n",
       "</style>\n",
       "<table border=\"1\" class=\"dataframe\">\n",
       "  <thead>\n",
       "    <tr style=\"text-align: right;\">\n",
       "      <th></th>\n",
       "      <th>model</th>\n",
       "      <th>transformation</th>\n",
       "      <th>orig_acc</th>\n",
       "      <th>pert_acc</th>\n",
       "      <th>attack_success_rate</th>\n",
       "      <th>neuron_coverage_000</th>\n",
       "      <th>neuron_coverage_020</th>\n",
       "      <th>neuron_coverage_050</th>\n",
       "      <th>neuron_coverage_075</th>\n",
       "      <th>inception_score</th>\n",
       "      <th>fid_score_64</th>\n",
       "      <th>fid_score_2048</th>\n",
       "      <th>output_diversity</th>\n",
       "      <th>output_diversity_pct</th>\n",
       "    </tr>\n",
       "  </thead>\n",
       "  <tbody>\n",
       "    <tr>\n",
       "      <th>0</th>\n",
       "      <td>Conv2DNet</td>\n",
       "      <td>light</td>\n",
       "      <td>NA</td>\n",
       "      <td>NA</td>\n",
       "      <td>NA</td>\n",
       "      <td>0.9789231779</td>\n",
       "      <td>0.2282994091</td>\n",
       "      <td>0.0634274458</td>\n",
       "      <td>0.0116217991</td>\n",
       "      <td>3.7388828326</td>\n",
       "      <td>NA</td>\n",
       "      <td>NA</td>\n",
       "      <td>NA</td>\n",
       "      <td>NA</td>\n",
       "    </tr>\n",
       "    <tr>\n",
       "      <th>1</th>\n",
       "      <td>Conv2DNet</td>\n",
       "      <td>light</td>\n",
       "      <td>0.99</td>\n",
       "      <td>0.9</td>\n",
       "      <td>0.1</td>\n",
       "      <td>0.9831910703</td>\n",
       "      <td>0.2474064347</td>\n",
       "      <td>0.0677609980</td>\n",
       "      <td>0.0098489823</td>\n",
       "      <td>3.6815822460</td>\n",
       "      <td>3.650078523e-05</td>\n",
       "      <td>0.2799079043</td>\n",
       "      <td>2.200937033</td>\n",
       "      <td>0.955854894</td>\n",
       "    </tr>\n",
       "    <tr>\n",
       "      <th>2</th>\n",
       "      <td>Conv2DNet</td>\n",
       "      <td>occl</td>\n",
       "      <td>NA</td>\n",
       "      <td>NA</td>\n",
       "      <td>NA</td>\n",
       "      <td>0.9706500328</td>\n",
       "      <td>0.2008535785</td>\n",
       "      <td>0.0575180565</td>\n",
       "      <td>0.0107025607</td>\n",
       "      <td>3.9937360142</td>\n",
       "      <td>NA</td>\n",
       "      <td>NA</td>\n",
       "      <td>NA</td>\n",
       "      <td>NA</td>\n",
       "    </tr>\n",
       "    <tr>\n",
       "      <th>3</th>\n",
       "      <td>Conv2DNet</td>\n",
       "      <td>occl</td>\n",
       "      <td>1</td>\n",
       "      <td>0.84</td>\n",
       "      <td>0.16</td>\n",
       "      <td>0.9011818779</td>\n",
       "      <td>0.2728824688</td>\n",
       "      <td>0.1434668418</td>\n",
       "      <td>0.0256730138</td>\n",
       "      <td>3.2126934132</td>\n",
       "      <td>1.091551583e-05</td>\n",
       "      <td>0.4312131671</td>\n",
       "      <td>1.813505292</td>\n",
       "      <td>0.7875954118</td>\n",
       "    </tr>\n",
       "    <tr>\n",
       "      <th>4</th>\n",
       "      <td>Conv2DNet</td>\n",
       "      <td>blackout</td>\n",
       "      <td>NA</td>\n",
       "      <td>NA</td>\n",
       "      <td>NA</td>\n",
       "      <td>0.9787918582</td>\n",
       "      <td>0.2381483913</td>\n",
       "      <td>0.0736703874</td>\n",
       "      <td>0.0145764938</td>\n",
       "      <td>4.0328891039</td>\n",
       "      <td>NA</td>\n",
       "      <td>NA</td>\n",
       "      <td>NA</td>\n",
       "      <td>NA</td>\n",
       "    </tr>\n",
       "    <tr>\n",
       "      <th>5</th>\n",
       "      <td>Conv2DNet</td>\n",
       "      <td>blackout</td>\n",
       "      <td>0.99</td>\n",
       "      <td>0.99</td>\n",
       "      <td>0.01</td>\n",
       "      <td>0.9834537098</td>\n",
       "      <td>0.2636244255</td>\n",
       "      <td>0.0812212738</td>\n",
       "      <td>0.0144451740</td>\n",
       "      <td>3.7156955772</td>\n",
       "      <td>4.018588102e-05</td>\n",
       "      <td>0.1923280084</td>\n",
       "      <td>2.248642445</td>\n",
       "      <td>0.976573093</td>\n",
       "    </tr>\n",
       "  </tbody>\n",
       "</table>\n",
       "</div>"
      ],
      "text/plain": [
       "       model transformation orig_acc pert_acc attack_success_rate  \\\n",
       "0  Conv2DNet          light       NA       NA                  NA   \n",
       "1  Conv2DNet          light     0.99      0.9                 0.1   \n",
       "2  Conv2DNet           occl       NA       NA                  NA   \n",
       "3  Conv2DNet           occl        1     0.84                0.16   \n",
       "4  Conv2DNet       blackout       NA       NA                  NA   \n",
       "5  Conv2DNet       blackout     0.99     0.99                0.01   \n",
       "\n",
       "   neuron_coverage_000  neuron_coverage_020  neuron_coverage_050  \\\n",
       "0         0.9789231779         0.2282994091         0.0634274458   \n",
       "1         0.9831910703         0.2474064347         0.0677609980   \n",
       "2         0.9706500328         0.2008535785         0.0575180565   \n",
       "3         0.9011818779         0.2728824688         0.1434668418   \n",
       "4         0.9787918582         0.2381483913         0.0736703874   \n",
       "5         0.9834537098         0.2636244255         0.0812212738   \n",
       "\n",
       "   neuron_coverage_075  inception_score     fid_score_64 fid_score_2048  \\\n",
       "0         0.0116217991     3.7388828326               NA             NA   \n",
       "1         0.0098489823     3.6815822460  3.650078523e-05   0.2799079043   \n",
       "2         0.0107025607     3.9937360142               NA             NA   \n",
       "3         0.0256730138     3.2126934132  1.091551583e-05   0.4312131671   \n",
       "4         0.0145764938     4.0328891039               NA             NA   \n",
       "5         0.0144451740     3.7156955772  4.018588102e-05   0.1923280084   \n",
       "\n",
       "  output_diversity output_diversity_pct  \n",
       "0               NA                   NA  \n",
       "1      2.200937033          0.955854894  \n",
       "2               NA                   NA  \n",
       "3      1.813505292         0.7875954118  \n",
       "4               NA                   NA  \n",
       "5      2.248642445          0.976573093  "
      ]
     },
     "execution_count": 22,
     "metadata": {},
     "output_type": "execute_result"
    }
   ],
   "source": [
    "df = pd.DataFrame.from_dict(all_results_MNIST)\n",
    "df[target_features] #.to_clipboard(excel=True)"
   ]
  },
  {
   "cell_type": "markdown",
   "metadata": {},
   "source": [
    "### Driving"
   ]
  },
  {
   "cell_type": "code",
   "execution_count": 4,
   "metadata": {},
   "outputs": [
    {
     "ename": "RuntimeError",
     "evalue": "Attempting to deserialize object on a CUDA device but torch.cuda.is_available() is False. If you are running on a CPU-only machine, please use torch.load with map_location=torch.device('cpu') to map your storages to the CPU.",
     "output_type": "error",
     "traceback": [
      "\u001b[1;31m---------------------------------------------------------------------------\u001b[0m",
      "\u001b[1;31mRuntimeError\u001b[0m                              Traceback (most recent call last)",
      "\u001b[1;32m<ipython-input-4-a192ac9c8bed>\u001b[0m in \u001b[0;36m<module>\u001b[1;34m\u001b[0m\n\u001b[0;32m      1\u001b[0m \u001b[1;32mwith\u001b[0m \u001b[0mopen\u001b[0m\u001b[1;33m(\u001b[0m\u001b[1;34m'assets/dx_results_Driving_Dave_orig_blackout_2020.01.27.pkl'\u001b[0m\u001b[1;33m,\u001b[0m \u001b[1;34m'rb'\u001b[0m\u001b[1;33m)\u001b[0m \u001b[1;32mas\u001b[0m \u001b[0mhandle\u001b[0m\u001b[1;33m:\u001b[0m\u001b[1;33m\u001b[0m\u001b[1;33m\u001b[0m\u001b[0m\n\u001b[1;32m----> 2\u001b[1;33m     \u001b[0mresults_Driving_light\u001b[0m \u001b[1;33m=\u001b[0m \u001b[0mpickle\u001b[0m\u001b[1;33m.\u001b[0m\u001b[0mload\u001b[0m\u001b[1;33m(\u001b[0m\u001b[0mhandle\u001b[0m\u001b[1;33m)\u001b[0m\u001b[1;33m\u001b[0m\u001b[1;33m\u001b[0m\u001b[0m\n\u001b[0m\u001b[0;32m      3\u001b[0m \u001b[1;33m\u001b[0m\u001b[0m\n\u001b[0;32m      4\u001b[0m \u001b[1;32mwith\u001b[0m \u001b[0mopen\u001b[0m\u001b[1;33m(\u001b[0m\u001b[1;34m'assets/dx_results_Driving_Dave_orig_light_2020.01.27.pkl'\u001b[0m\u001b[1;33m,\u001b[0m \u001b[1;34m'rb'\u001b[0m\u001b[1;33m)\u001b[0m \u001b[1;32mas\u001b[0m \u001b[0mhandle\u001b[0m\u001b[1;33m:\u001b[0m\u001b[1;33m\u001b[0m\u001b[1;33m\u001b[0m\u001b[0m\n\u001b[0;32m      5\u001b[0m     \u001b[0mresults_Driving_occl\u001b[0m \u001b[1;33m=\u001b[0m \u001b[0mpickle\u001b[0m\u001b[1;33m.\u001b[0m\u001b[0mload\u001b[0m\u001b[1;33m(\u001b[0m\u001b[0mhandle\u001b[0m\u001b[1;33m)\u001b[0m\u001b[1;33m\u001b[0m\u001b[1;33m\u001b[0m\u001b[0m\n",
      "\u001b[1;32m~\\AppData\\Local\\Continuum\\anaconda3\\envs\\tf1_env\\lib\\site-packages\\torch\\storage.py\u001b[0m in \u001b[0;36m_load_from_bytes\u001b[1;34m(b)\u001b[0m\n\u001b[0;32m    132\u001b[0m \u001b[1;33m\u001b[0m\u001b[0m\n\u001b[0;32m    133\u001b[0m \u001b[1;32mdef\u001b[0m \u001b[0m_load_from_bytes\u001b[0m\u001b[1;33m(\u001b[0m\u001b[0mb\u001b[0m\u001b[1;33m)\u001b[0m\u001b[1;33m:\u001b[0m\u001b[1;33m\u001b[0m\u001b[1;33m\u001b[0m\u001b[0m\n\u001b[1;32m--> 134\u001b[1;33m     \u001b[1;32mreturn\u001b[0m \u001b[0mtorch\u001b[0m\u001b[1;33m.\u001b[0m\u001b[0mload\u001b[0m\u001b[1;33m(\u001b[0m\u001b[0mio\u001b[0m\u001b[1;33m.\u001b[0m\u001b[0mBytesIO\u001b[0m\u001b[1;33m(\u001b[0m\u001b[0mb\u001b[0m\u001b[1;33m)\u001b[0m\u001b[1;33m)\u001b[0m\u001b[1;33m\u001b[0m\u001b[1;33m\u001b[0m\u001b[0m\n\u001b[0m\u001b[0;32m    135\u001b[0m \u001b[1;33m\u001b[0m\u001b[0m\n\u001b[0;32m    136\u001b[0m \u001b[1;33m\u001b[0m\u001b[0m\n",
      "\u001b[1;32m~\\AppData\\Local\\Continuum\\anaconda3\\envs\\tf1_env\\lib\\site-packages\\torch\\serialization.py\u001b[0m in \u001b[0;36mload\u001b[1;34m(f, map_location, pickle_module, **pickle_load_args)\u001b[0m\n\u001b[0;32m    527\u001b[0m             \u001b[1;32mwith\u001b[0m \u001b[0m_open_zipfile_reader\u001b[0m\u001b[1;33m(\u001b[0m\u001b[0mf\u001b[0m\u001b[1;33m)\u001b[0m \u001b[1;32mas\u001b[0m \u001b[0mopened_zipfile\u001b[0m\u001b[1;33m:\u001b[0m\u001b[1;33m\u001b[0m\u001b[1;33m\u001b[0m\u001b[0m\n\u001b[0;32m    528\u001b[0m                 \u001b[1;32mreturn\u001b[0m \u001b[0m_load\u001b[0m\u001b[1;33m(\u001b[0m\u001b[0mopened_zipfile\u001b[0m\u001b[1;33m,\u001b[0m \u001b[0mmap_location\u001b[0m\u001b[1;33m,\u001b[0m \u001b[0mpickle_module\u001b[0m\u001b[1;33m,\u001b[0m \u001b[1;33m**\u001b[0m\u001b[0mpickle_load_args\u001b[0m\u001b[1;33m)\u001b[0m\u001b[1;33m\u001b[0m\u001b[1;33m\u001b[0m\u001b[0m\n\u001b[1;32m--> 529\u001b[1;33m         \u001b[1;32mreturn\u001b[0m \u001b[0m_legacy_load\u001b[0m\u001b[1;33m(\u001b[0m\u001b[0mopened_file\u001b[0m\u001b[1;33m,\u001b[0m \u001b[0mmap_location\u001b[0m\u001b[1;33m,\u001b[0m \u001b[0mpickle_module\u001b[0m\u001b[1;33m,\u001b[0m \u001b[1;33m**\u001b[0m\u001b[0mpickle_load_args\u001b[0m\u001b[1;33m)\u001b[0m\u001b[1;33m\u001b[0m\u001b[1;33m\u001b[0m\u001b[0m\n\u001b[0m\u001b[0;32m    530\u001b[0m \u001b[1;33m\u001b[0m\u001b[0m\n\u001b[0;32m    531\u001b[0m \u001b[1;33m\u001b[0m\u001b[0m\n",
      "\u001b[1;32m~\\AppData\\Local\\Continuum\\anaconda3\\envs\\tf1_env\\lib\\site-packages\\torch\\serialization.py\u001b[0m in \u001b[0;36m_legacy_load\u001b[1;34m(f, map_location, pickle_module, **pickle_load_args)\u001b[0m\n\u001b[0;32m    700\u001b[0m     \u001b[0munpickler\u001b[0m \u001b[1;33m=\u001b[0m \u001b[0mpickle_module\u001b[0m\u001b[1;33m.\u001b[0m\u001b[0mUnpickler\u001b[0m\u001b[1;33m(\u001b[0m\u001b[0mf\u001b[0m\u001b[1;33m,\u001b[0m \u001b[1;33m**\u001b[0m\u001b[0mpickle_load_args\u001b[0m\u001b[1;33m)\u001b[0m\u001b[1;33m\u001b[0m\u001b[1;33m\u001b[0m\u001b[0m\n\u001b[0;32m    701\u001b[0m     \u001b[0munpickler\u001b[0m\u001b[1;33m.\u001b[0m\u001b[0mpersistent_load\u001b[0m \u001b[1;33m=\u001b[0m \u001b[0mpersistent_load\u001b[0m\u001b[1;33m\u001b[0m\u001b[1;33m\u001b[0m\u001b[0m\n\u001b[1;32m--> 702\u001b[1;33m     \u001b[0mresult\u001b[0m \u001b[1;33m=\u001b[0m \u001b[0munpickler\u001b[0m\u001b[1;33m.\u001b[0m\u001b[0mload\u001b[0m\u001b[1;33m(\u001b[0m\u001b[1;33m)\u001b[0m\u001b[1;33m\u001b[0m\u001b[1;33m\u001b[0m\u001b[0m\n\u001b[0m\u001b[0;32m    703\u001b[0m \u001b[1;33m\u001b[0m\u001b[0m\n\u001b[0;32m    704\u001b[0m     \u001b[0mdeserialized_storage_keys\u001b[0m \u001b[1;33m=\u001b[0m \u001b[0mpickle_module\u001b[0m\u001b[1;33m.\u001b[0m\u001b[0mload\u001b[0m\u001b[1;33m(\u001b[0m\u001b[0mf\u001b[0m\u001b[1;33m,\u001b[0m \u001b[1;33m**\u001b[0m\u001b[0mpickle_load_args\u001b[0m\u001b[1;33m)\u001b[0m\u001b[1;33m\u001b[0m\u001b[1;33m\u001b[0m\u001b[0m\n",
      "\u001b[1;32m~\\AppData\\Local\\Continuum\\anaconda3\\envs\\tf1_env\\lib\\site-packages\\torch\\serialization.py\u001b[0m in \u001b[0;36mpersistent_load\u001b[1;34m(saved_id)\u001b[0m\n\u001b[0;32m    663\u001b[0m                 \u001b[0mobj\u001b[0m \u001b[1;33m=\u001b[0m \u001b[0mdata_type\u001b[0m\u001b[1;33m(\u001b[0m\u001b[0msize\u001b[0m\u001b[1;33m)\u001b[0m\u001b[1;33m\u001b[0m\u001b[1;33m\u001b[0m\u001b[0m\n\u001b[0;32m    664\u001b[0m                 \u001b[0mobj\u001b[0m\u001b[1;33m.\u001b[0m\u001b[0m_torch_load_uninitialized\u001b[0m \u001b[1;33m=\u001b[0m \u001b[1;32mTrue\u001b[0m\u001b[1;33m\u001b[0m\u001b[1;33m\u001b[0m\u001b[0m\n\u001b[1;32m--> 665\u001b[1;33m                 \u001b[0mdeserialized_objects\u001b[0m\u001b[1;33m[\u001b[0m\u001b[0mroot_key\u001b[0m\u001b[1;33m]\u001b[0m \u001b[1;33m=\u001b[0m \u001b[0mrestore_location\u001b[0m\u001b[1;33m(\u001b[0m\u001b[0mobj\u001b[0m\u001b[1;33m,\u001b[0m \u001b[0mlocation\u001b[0m\u001b[1;33m)\u001b[0m\u001b[1;33m\u001b[0m\u001b[1;33m\u001b[0m\u001b[0m\n\u001b[0m\u001b[0;32m    666\u001b[0m             \u001b[0mstorage\u001b[0m \u001b[1;33m=\u001b[0m \u001b[0mdeserialized_objects\u001b[0m\u001b[1;33m[\u001b[0m\u001b[0mroot_key\u001b[0m\u001b[1;33m]\u001b[0m\u001b[1;33m\u001b[0m\u001b[1;33m\u001b[0m\u001b[0m\n\u001b[0;32m    667\u001b[0m             \u001b[1;32mif\u001b[0m \u001b[0mview_metadata\u001b[0m \u001b[1;32mis\u001b[0m \u001b[1;32mnot\u001b[0m \u001b[1;32mNone\u001b[0m\u001b[1;33m:\u001b[0m\u001b[1;33m\u001b[0m\u001b[1;33m\u001b[0m\u001b[0m\n",
      "\u001b[1;32m~\\AppData\\Local\\Continuum\\anaconda3\\envs\\tf1_env\\lib\\site-packages\\torch\\serialization.py\u001b[0m in \u001b[0;36mdefault_restore_location\u001b[1;34m(storage, location)\u001b[0m\n\u001b[0;32m    154\u001b[0m \u001b[1;32mdef\u001b[0m \u001b[0mdefault_restore_location\u001b[0m\u001b[1;33m(\u001b[0m\u001b[0mstorage\u001b[0m\u001b[1;33m,\u001b[0m \u001b[0mlocation\u001b[0m\u001b[1;33m)\u001b[0m\u001b[1;33m:\u001b[0m\u001b[1;33m\u001b[0m\u001b[1;33m\u001b[0m\u001b[0m\n\u001b[0;32m    155\u001b[0m     \u001b[1;32mfor\u001b[0m \u001b[0m_\u001b[0m\u001b[1;33m,\u001b[0m \u001b[0m_\u001b[0m\u001b[1;33m,\u001b[0m \u001b[0mfn\u001b[0m \u001b[1;32min\u001b[0m \u001b[0m_package_registry\u001b[0m\u001b[1;33m:\u001b[0m\u001b[1;33m\u001b[0m\u001b[1;33m\u001b[0m\u001b[0m\n\u001b[1;32m--> 156\u001b[1;33m         \u001b[0mresult\u001b[0m \u001b[1;33m=\u001b[0m \u001b[0mfn\u001b[0m\u001b[1;33m(\u001b[0m\u001b[0mstorage\u001b[0m\u001b[1;33m,\u001b[0m \u001b[0mlocation\u001b[0m\u001b[1;33m)\u001b[0m\u001b[1;33m\u001b[0m\u001b[1;33m\u001b[0m\u001b[0m\n\u001b[0m\u001b[0;32m    157\u001b[0m         \u001b[1;32mif\u001b[0m \u001b[0mresult\u001b[0m \u001b[1;32mis\u001b[0m \u001b[1;32mnot\u001b[0m \u001b[1;32mNone\u001b[0m\u001b[1;33m:\u001b[0m\u001b[1;33m\u001b[0m\u001b[1;33m\u001b[0m\u001b[0m\n\u001b[0;32m    158\u001b[0m             \u001b[1;32mreturn\u001b[0m \u001b[0mresult\u001b[0m\u001b[1;33m\u001b[0m\u001b[1;33m\u001b[0m\u001b[0m\n",
      "\u001b[1;32m~\\AppData\\Local\\Continuum\\anaconda3\\envs\\tf1_env\\lib\\site-packages\\torch\\serialization.py\u001b[0m in \u001b[0;36m_cuda_deserialize\u001b[1;34m(obj, location)\u001b[0m\n\u001b[0;32m    130\u001b[0m \u001b[1;32mdef\u001b[0m \u001b[0m_cuda_deserialize\u001b[0m\u001b[1;33m(\u001b[0m\u001b[0mobj\u001b[0m\u001b[1;33m,\u001b[0m \u001b[0mlocation\u001b[0m\u001b[1;33m)\u001b[0m\u001b[1;33m:\u001b[0m\u001b[1;33m\u001b[0m\u001b[1;33m\u001b[0m\u001b[0m\n\u001b[0;32m    131\u001b[0m     \u001b[1;32mif\u001b[0m \u001b[0mlocation\u001b[0m\u001b[1;33m.\u001b[0m\u001b[0mstartswith\u001b[0m\u001b[1;33m(\u001b[0m\u001b[1;34m'cuda'\u001b[0m\u001b[1;33m)\u001b[0m\u001b[1;33m:\u001b[0m\u001b[1;33m\u001b[0m\u001b[1;33m\u001b[0m\u001b[0m\n\u001b[1;32m--> 132\u001b[1;33m         \u001b[0mdevice\u001b[0m \u001b[1;33m=\u001b[0m \u001b[0mvalidate_cuda_device\u001b[0m\u001b[1;33m(\u001b[0m\u001b[0mlocation\u001b[0m\u001b[1;33m)\u001b[0m\u001b[1;33m\u001b[0m\u001b[1;33m\u001b[0m\u001b[0m\n\u001b[0m\u001b[0;32m    133\u001b[0m         \u001b[1;32mif\u001b[0m \u001b[0mgetattr\u001b[0m\u001b[1;33m(\u001b[0m\u001b[0mobj\u001b[0m\u001b[1;33m,\u001b[0m \u001b[1;34m\"_torch_load_uninitialized\"\u001b[0m\u001b[1;33m,\u001b[0m \u001b[1;32mFalse\u001b[0m\u001b[1;33m)\u001b[0m\u001b[1;33m:\u001b[0m\u001b[1;33m\u001b[0m\u001b[1;33m\u001b[0m\u001b[0m\n\u001b[0;32m    134\u001b[0m             \u001b[0mstorage_type\u001b[0m \u001b[1;33m=\u001b[0m \u001b[0mgetattr\u001b[0m\u001b[1;33m(\u001b[0m\u001b[0mtorch\u001b[0m\u001b[1;33m.\u001b[0m\u001b[0mcuda\u001b[0m\u001b[1;33m,\u001b[0m \u001b[0mtype\u001b[0m\u001b[1;33m(\u001b[0m\u001b[0mobj\u001b[0m\u001b[1;33m)\u001b[0m\u001b[1;33m.\u001b[0m\u001b[0m__name__\u001b[0m\u001b[1;33m)\u001b[0m\u001b[1;33m\u001b[0m\u001b[1;33m\u001b[0m\u001b[0m\n",
      "\u001b[1;32m~\\AppData\\Local\\Continuum\\anaconda3\\envs\\tf1_env\\lib\\site-packages\\torch\\serialization.py\u001b[0m in \u001b[0;36mvalidate_cuda_device\u001b[1;34m(location)\u001b[0m\n\u001b[0;32m    114\u001b[0m \u001b[1;33m\u001b[0m\u001b[0m\n\u001b[0;32m    115\u001b[0m     \u001b[1;32mif\u001b[0m \u001b[1;32mnot\u001b[0m \u001b[0mtorch\u001b[0m\u001b[1;33m.\u001b[0m\u001b[0mcuda\u001b[0m\u001b[1;33m.\u001b[0m\u001b[0mis_available\u001b[0m\u001b[1;33m(\u001b[0m\u001b[1;33m)\u001b[0m\u001b[1;33m:\u001b[0m\u001b[1;33m\u001b[0m\u001b[1;33m\u001b[0m\u001b[0m\n\u001b[1;32m--> 116\u001b[1;33m         raise RuntimeError('Attempting to deserialize object on a CUDA '\n\u001b[0m\u001b[0;32m    117\u001b[0m                            \u001b[1;34m'device but torch.cuda.is_available() is False. '\u001b[0m\u001b[1;33m\u001b[0m\u001b[1;33m\u001b[0m\u001b[0m\n\u001b[0;32m    118\u001b[0m                            \u001b[1;34m'If you are running on a CPU-only machine, '\u001b[0m\u001b[1;33m\u001b[0m\u001b[1;33m\u001b[0m\u001b[0m\n",
      "\u001b[1;31mRuntimeError\u001b[0m: Attempting to deserialize object on a CUDA device but torch.cuda.is_available() is False. If you are running on a CPU-only machine, please use torch.load with map_location=torch.device('cpu') to map your storages to the CPU."
     ]
    }
   ],
   "source": [
    "with open('assets/dx_results_Driving_Dave_orig_blackout_2020.01.27.pkl', 'rb') as handle:\n",
    "    results_Driving_light = pickle.load(handle)\n",
    "    \n",
    "with open('assets/dx_results_Driving_Dave_orig_light_2020.01.27.pkl', 'rb') as handle:\n",
    "    results_Driving_occl = pickle.load(handle)\n",
    "    \n",
    "with open('assets/dx_results_Driving_Dave_orig_occl_2020.01.27.pkl', 'rb') as handle:\n",
    "    results_Driving_blackout = pickle.load(handle)\n",
    "    \n",
    "all_results_Driving = results_Driving_light + results_Driving_occl + results_Driving_blackout"
   ]
  },
  {
   "cell_type": "code",
   "execution_count": 35,
   "metadata": {},
   "outputs": [],
   "source": [
    "# with open('assets/dx_results_Driving_Dave_orig_blackout_2020.01.27.pkl', 'wb') as handle:\n",
    "#     pickle.dump(results_Driving_light, handle, protocol=pickle.HIGHEST_PROTOCOL)\n",
    "    \n",
    "# with open('assets/dx_results_Driving_Dave_orig_light_2020.01.27.pkl', 'wb') as handle:\n",
    "#     pickle.dump(results_Driving_occl, handle, protocol=pickle.HIGHEST_PROTOCOL)\n",
    "    \n",
    "# with open('assets/dx_results_Driving_Dave_orig_occl_2020.01.27.pkl', 'wb') as handle:\n",
    "#     pickle.dump(results_Driving_blackout, handle, protocol=pickle.HIGHEST_PROTOCOL)"
   ]
  },
  {
   "cell_type": "code",
   "execution_count": 36,
   "metadata": {},
   "outputs": [],
   "source": [
    "target_features = ['model', \n",
    "                   'transformation', \n",
    "                   'mse',\n",
    "                   'orig_acc', \n",
    "                   'pert_acc', \n",
    "                   'attack_success_rate',\n",
    "                   'neuron_coverage_000',\n",
    "                   'neuron_coverage_020',\n",
    "                   'neuron_coverage_050',\n",
    "                   'neuron_coverage_075',\n",
    "                   'inception_score',\n",
    "                   'fid_score_64',\n",
    "                   'fid_score_2048',\n",
    "                   'output_diversity',\n",
    "                   'output_diversity_pct']"
   ]
  },
  {
   "cell_type": "code",
   "execution_count": 38,
   "metadata": {},
   "outputs": [],
   "source": [
    "df = pd.DataFrame.from_dict(all_results_Driving)\n",
    "df[target_features].to_clipboard(excel=True)"
   ]
  },
  {
   "cell_type": "code",
   "execution_count": null,
   "metadata": {},
   "outputs": [],
   "source": []
  },
  {
   "cell_type": "code",
   "execution_count": null,
   "metadata": {},
   "outputs": [],
   "source": []
  }
 ],
 "metadata": {
  "accelerator": "GPU",
  "colab": {
   "collapsed_sections": [],
   "name": "CW_div_pytorch.ipynb",
   "provenance": [],
   "toc_visible": true,
   "version": "0.3.2"
  },
  "kernelspec": {
   "display_name": "Python 3",
   "language": "python",
   "name": "python3"
  },
  "language_info": {
   "codemirror_mode": {
    "name": "ipython",
    "version": 3
   },
   "file_extension": ".py",
   "mimetype": "text/x-python",
   "name": "python",
   "nbconvert_exporter": "python",
   "pygments_lexer": "ipython3",
   "version": "3.7.3"
  }
 },
 "nbformat": 4,
 "nbformat_minor": 1
}
